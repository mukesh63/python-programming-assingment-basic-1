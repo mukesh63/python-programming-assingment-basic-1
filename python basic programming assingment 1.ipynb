{
 "cells": [
  {
   "cell_type": "markdown",
   "metadata": {},
   "source": [
    "# Q1"
   ]
  },
  {
   "cell_type": "code",
   "execution_count": 1,
   "metadata": {},
   "outputs": [
    {
     "name": "stdout",
     "output_type": "stream",
     "text": [
      "Hello python\n"
     ]
    }
   ],
   "source": [
    "print('Hello python')"
   ]
  },
  {
   "cell_type": "markdown",
   "metadata": {},
   "source": [
    "# Q2"
   ]
  },
  {
   "cell_type": "code",
   "execution_count": 4,
   "metadata": {},
   "outputs": [
    {
     "name": "stdout",
     "output_type": "stream",
     "text": [
      "Enter value: 4\n",
      "Enter value: 2\n",
      "additon of a number:  6\n",
      "division of a number:  2.0\n"
     ]
    }
   ],
   "source": [
    "a = int(input('Enter value: '))\n",
    "b = int(input('Enter value: '))\n",
    "c = a+b\n",
    "print('additon of a number: ',c)\n",
    "d = a/b\n",
    "print('division of a number: ',d)"
   ]
  },
  {
   "cell_type": "markdown",
   "metadata": {},
   "source": [
    "# Q3"
   ]
  },
  {
   "cell_type": "code",
   "execution_count": 5,
   "metadata": {},
   "outputs": [
    {
     "name": "stdout",
     "output_type": "stream",
     "text": [
      "Enter value of base: 5\n",
      "Enter value of height: 3\n",
      "Area of a triangle is:  7.5\n"
     ]
    }
   ],
   "source": [
    "base = int(input('Enter value of base: '))\n",
    "height = int(input('Enter value of height: '))\n",
    "formula = 1/2*base*height\n",
    "print('Area of a triangle is: ',formula)"
   ]
  },
  {
   "cell_type": "markdown",
   "metadata": {},
   "source": [
    "# Q4"
   ]
  },
  {
   "cell_type": "code",
   "execution_count": 7,
   "metadata": {},
   "outputs": [
    {
     "name": "stdout",
     "output_type": "stream",
     "text": [
      "Enter value 1 : 5\n",
      "Enter value 2 : 4\n",
      "v1 is : 4\n",
      "v2 is : 5\n"
     ]
    }
   ],
   "source": [
    "v1 = input('Enter value 1 : ')\n",
    "v2 = input('Enter value 2 : ')\n",
    "temp = 0\n",
    "temp = v1\n",
    "v1 = v2\n",
    "v2 = temp\n",
    "print('v1 is :',v1)\n",
    "print('v2 is :',v2)"
   ]
  },
  {
   "cell_type": "markdown",
   "metadata": {},
   "source": [
    "# Q5"
   ]
  },
  {
   "cell_type": "code",
   "execution_count": 9,
   "metadata": {},
   "outputs": [
    {
     "name": "stdout",
     "output_type": "stream",
     "text": [
      "0.8728193472752671\n"
     ]
    }
   ],
   "source": [
    "import random \n",
    "n = random.random()\n",
    "print(n)"
   ]
  },
  {
   "cell_type": "code",
   "execution_count": null,
   "metadata": {},
   "outputs": [],
   "source": []
  }
 ],
 "metadata": {
  "kernelspec": {
   "display_name": "Python 3",
   "language": "python",
   "name": "python3"
  },
  "language_info": {
   "codemirror_mode": {
    "name": "ipython",
    "version": 3
   },
   "file_extension": ".py",
   "mimetype": "text/x-python",
   "name": "python",
   "nbconvert_exporter": "python",
   "pygments_lexer": "ipython3",
   "version": "3.8.3"
  }
 },
 "nbformat": 4,
 "nbformat_minor": 4
}
